{
 "cells": [
  {
   "cell_type": "markdown",
   "id": "50676f1f",
   "metadata": {},
   "source": [
    "# Import necessary libraries"
   ]
  },
  {
   "cell_type": "code",
   "execution_count": 1,
   "id": "489d33c7",
   "metadata": {},
   "outputs": [],
   "source": [
    "import pandas as pd\n",
    "from sklearn.model_selection import train_test_split\n",
    "from sklearn.preprocessing import StandardScaler\n",
    "from sklearn.neighbors import KNeighborsClassifier\n",
    "from sklearn.metrics import accuracy_score, classification_report, confusion_matrix"
   ]
  },
  {
   "cell_type": "markdown",
   "id": "4c54cc31",
   "metadata": {},
   "source": [
    "# Load the dataset"
   ]
  },
  {
   "cell_type": "code",
   "execution_count": 2,
   "id": "829ea4a7",
   "metadata": {},
   "outputs": [],
   "source": [
    "\n",
    "file_path = 'heart.csv'\n",
    "df = pd.read_csv(file_path)"
   ]
  },
  {
   "cell_type": "markdown",
   "id": "7e5f3f0f",
   "metadata": {},
   "source": [
    "# Display the first few rows of the dataset to understand its structure"
   ]
  },
  {
   "cell_type": "code",
   "execution_count": 3,
   "id": "a40647a4",
   "metadata": {},
   "outputs": [
    {
     "name": "stdout",
     "output_type": "stream",
     "text": [
      "   age  sex  cp  trtbps  chol  fbs  restecg  thalachh  exng  oldpeak  slp  \\\n",
      "0   63    1   3     145   233    1        0       150     0      2.3    0   \n",
      "1   37    1   2     130   250    0        1       187     0      3.5    0   \n",
      "2   41    0   1     130   204    0        0       172     0      1.4    2   \n",
      "3   56    1   1     120   236    0        1       178     0      0.8    2   \n",
      "4   57    0   0     120   354    0        1       163     1      0.6    2   \n",
      "\n",
      "   caa  thall  output  \n",
      "0    0      1       1  \n",
      "1    0      2       1  \n",
      "2    0      2       1  \n",
      "3    0      2       1  \n",
      "4    0      2       1  \n"
     ]
    }
   ],
   "source": [
    "\n",
    "print(df.head())"
   ]
  },
  {
   "cell_type": "markdown",
   "id": "1d67ab77",
   "metadata": {},
   "source": [
    "# Separate features and target variable"
   ]
  },
  {
   "cell_type": "code",
   "execution_count": 4,
   "id": "6c207dab",
   "metadata": {},
   "outputs": [],
   "source": [
    "\n",
    "X = df.drop('output', axis=1)  # Features\n",
    "y = df['output']  # Target variable"
   ]
  },
  {
   "cell_type": "markdown",
   "id": "5c5e56c8",
   "metadata": {},
   "source": [
    "# Split the dataset into training and testing sets"
   ]
  },
  {
   "cell_type": "code",
   "execution_count": 5,
   "id": "70c95e86",
   "metadata": {},
   "outputs": [],
   "source": [
    "X_train, X_test, y_train, y_test = train_test_split(X, y, test_size=0.2, random_state=42)\n"
   ]
  },
  {
   "cell_type": "markdown",
   "id": "f42bbf7e",
   "metadata": {},
   "source": [
    "# Standardize the features"
   ]
  },
  {
   "cell_type": "code",
   "execution_count": 9,
   "id": "6e885413",
   "metadata": {},
   "outputs": [],
   "source": [
    "\n",
    "scaler = StandardScaler()\n",
    "X_train = scaler.fit_transform(X_train)\n",
    "X_test = scaler.transform(X_test)"
   ]
  },
  {
   "cell_type": "markdown",
   "id": "6999ecb7",
   "metadata": {},
   "source": [
    "# Initialize the KNN classifier"
   ]
  },
  {
   "cell_type": "code",
   "execution_count": 12,
   "id": "5e983b31",
   "metadata": {},
   "outputs": [
    {
     "name": "stdout",
     "output_type": "stream",
     "text": [
      "CPU times: user 5.83 ms, sys: 2.3 ms, total: 8.14 ms\n",
      "Wall time: 6.13 ms\n"
     ]
    }
   ],
   "source": [
    "%%time\n",
    "knn_classifier = KNeighborsClassifier(n_neighbors=5)\n",
    "\n",
    "# Train the classifier\n",
    "knn_classifier.fit(X_train, y_train)\n",
    "\n",
    "# Make predictions on the test set\n",
    "y_pred = knn_classifier.predict(X_test)"
   ]
  },
  {
   "cell_type": "markdown",
   "id": "2534247a",
   "metadata": {},
   "source": [
    "# Evaluate the performance of the model"
   ]
  },
  {
   "cell_type": "code",
   "execution_count": 13,
   "id": "f0b0ff51",
   "metadata": {},
   "outputs": [
    {
     "name": "stdout",
     "output_type": "stream",
     "text": [
      "Accuracy: 0.9016393442622951\n",
      "Confusion Matrix:\n",
      "[[27  2]\n",
      " [ 4 28]]\n",
      "Classification Report:\n",
      "              precision    recall  f1-score   support\n",
      "\n",
      "           0       0.87      0.93      0.90        29\n",
      "           1       0.93      0.88      0.90        32\n",
      "\n",
      "    accuracy                           0.90        61\n",
      "   macro avg       0.90      0.90      0.90        61\n",
      "weighted avg       0.90      0.90      0.90        61\n",
      "\n"
     ]
    }
   ],
   "source": [
    "\n",
    "accuracy = accuracy_score(y_test, y_pred)\n",
    "conf_matrix = confusion_matrix(y_test, y_pred)\n",
    "classification_report_str = classification_report(y_test, y_pred)\n",
    "\n",
    "# Display the results\n",
    "print(f'Accuracy: {accuracy}')\n",
    "print(f'Confusion Matrix:\\n{conf_matrix}')\n",
    "print(f'Classification Report:\\n{classification_report_str}')\n"
   ]
  },
  {
   "cell_type": "markdown",
   "id": "60bfaf18",
   "metadata": {},
   "source": [
    "# Initialize the KNN classifier using manhattan distance "
   ]
  },
  {
   "cell_type": "code",
   "execution_count": 14,
   "id": "a0edba8d",
   "metadata": {},
   "outputs": [
    {
     "name": "stdout",
     "output_type": "stream",
     "text": [
      "CPU times: user 6.34 ms, sys: 3.05 ms, total: 9.39 ms\n",
      "Wall time: 6.82 ms\n"
     ]
    }
   ],
   "source": [
    "%%time\n",
    "knn_classifier = KNeighborsClassifier(n_neighbors=5, metric='manhattan')\n",
    "\n",
    "# Train the classifier\n",
    "knn_classifier.fit(X_train, y_train)\n",
    "\n",
    "# Make predictions on the test set\n",
    "y_pred = knn_classifier.predict(X_test)"
   ]
  },
  {
   "cell_type": "markdown",
   "id": "84d1b04a",
   "metadata": {},
   "source": [
    "# Evaluate the performance of the model using manhattan distance "
   ]
  },
  {
   "cell_type": "code",
   "execution_count": 20,
   "id": "d1a73a6f",
   "metadata": {},
   "outputs": [
    {
     "name": "stdout",
     "output_type": "stream",
     "text": [
      "Accuracy: 0.8360655737704918\n",
      "Confusion Matrix:\n",
      "[[24  5]\n",
      " [ 5 27]]\n",
      "Classification Report:\n",
      "              precision    recall  f1-score   support\n",
      "\n",
      "           0       0.83      0.83      0.83        29\n",
      "           1       0.84      0.84      0.84        32\n",
      "\n",
      "    accuracy                           0.84        61\n",
      "   macro avg       0.84      0.84      0.84        61\n",
      "weighted avg       0.84      0.84      0.84        61\n",
      "\n"
     ]
    }
   ],
   "source": [
    "\n",
    "accuracy = accuracy_score(y_test, y_pred)\n",
    "conf_matrix = confusion_matrix(y_test, y_pred)\n",
    "classification_report_str = classification_report(y_test, y_pred)\n",
    "\n",
    "# Display the results\n",
    "print(f'Accuracy: {accuracy}')\n",
    "print(f'Confusion Matrix:\\n{conf_matrix}')\n",
    "print(f'Classification Report:\\n{classification_report_str}')\n"
   ]
  },
  {
   "cell_type": "markdown",
   "id": "21f4b31d",
   "metadata": {},
   "source": [
    "# Deploy Linear Regression For Concret Strength Prediciton"
   ]
  },
  {
   "cell_type": "code",
   "execution_count": 24,
   "id": "caebdd0d",
   "metadata": {},
   "outputs": [],
   "source": [
    "# Import necessary libraries\n",
    "import pandas as pd\n",
    "import matplotlib.pyplot as plt\n",
    "from sklearn.model_selection import train_test_split\n",
    "from sklearn.linear_model import LinearRegression\n",
    "from sklearn.metrics import mean_squared_error, r2_score\n",
    "\n",
    "# Load the dataset\n",
    "file_path = 'Concrete_Data_Yeh.csv'\n",
    "df = pd.read_csv(file_path)\n",
    "\n",
    "# Separate features and target variable\n",
    "X = df.drop('csMPa', axis=1)\n",
    "y = df['csMPa']\n",
    "\n",
    "# Split the dataset into training and testing sets\n",
    "X_train, X_test, y_train, y_test = train_test_split(X, y, test_size=0.2, random_state=42)\n",
    "\n",
    "\n"
   ]
  },
  {
   "cell_type": "code",
   "execution_count": 25,
   "id": "0a0b6153",
   "metadata": {},
   "outputs": [],
   "source": [
    "# Initialize the Linear Regression model\n",
    "linear_reg_model = LinearRegression()\n",
    "\n",
    "# Train the model\n",
    "linear_reg_model.fit(X_train, y_train)\n",
    "\n",
    "# Make predictions on the test set\n",
    "y_pred = linear_reg_model.predict(X_test)\n",
    "\n",
    "# Evaluate the performance of the model\n",
    "mse = mean_squared_error(y_test, y_pred)\n",
    "r2 = r2_score(y_test, y_pred)\n",
    "\n",
    "\n"
   ]
  },
  {
   "cell_type": "code",
   "execution_count": 26,
   "id": "2b1122a1",
   "metadata": {},
   "outputs": [
    {
     "name": "stdout",
     "output_type": "stream",
     "text": [
      "Mean Squared Error: 95.97094009110677\n",
      "R-squared Score: 0.6275531792314851\n"
     ]
    }
   ],
   "source": [
    "# Display the results\n",
    "print(f'Mean Squared Error: {mse}')\n",
    "print(f'R-squared Score: {r2}')"
   ]
  },
  {
   "cell_type": "code",
   "execution_count": 28,
   "id": "a62951b3",
   "metadata": {},
   "outputs": [
    {
     "data": {
      "text/plain": [
       "array([ 0.11899393,  0.1085356 ,  0.08215181, -0.13527626,  0.31056994,\n",
       "        0.01786715,  0.02409978,  0.11643864])"
      ]
     },
     "execution_count": 28,
     "metadata": {},
     "output_type": "execute_result"
    }
   ],
   "source": [
    "linear_reg_model.coef_"
   ]
  },
  {
   "cell_type": "code",
   "execution_count": 29,
   "id": "eb03ef22",
   "metadata": {},
   "outputs": [
    {
     "data": {
      "text/plain": [
       "-28.82355499969256"
      ]
     },
     "execution_count": 29,
     "metadata": {},
     "output_type": "execute_result"
    }
   ],
   "source": [
    "linear_reg_model.intercept_"
   ]
  },
  {
   "cell_type": "markdown",
   "id": "f6a0d665",
   "metadata": {},
   "source": [
    "The code snippet [min(y_test), max(y_test)], [min(y_test), max(y_test)] is used to create a line representing the line of perfect predictions in the scatter plot. In other words, it's a line with a slope of 1 that goes from the minimum to the maximum value of the actual csMPa values.\n",
    "\n",
    "The purpose of this line is to visualize how well the model's predictions align with perfect predictions. If the model's predictions are perfect, all the points would fall on this line. If the points deviate from this line, it indicates the model's prediction errors."
   ]
  },
  {
   "cell_type": "markdown",
   "id": "1e05c465",
   "metadata": {},
   "source": [
    "# Plot the predicted vs. actual values with a line indicating the relationship"
   ]
  },
  {
   "cell_type": "code",
   "execution_count": 27,
   "id": "32d3df3c",
   "metadata": {},
   "outputs": [
    {
     "data": {
      "image/png": "[encoded data removed]",
      "text/plain": [
       "<Figure size 640x480 with 1 Axes>"
      ]
     },
     "metadata": {},
     "output_type": "display_data"
    }
   ],
   "source": [
    "plt.scatter(y_test, y_pred)\n",
    "plt.plot([min(y_test), max(y_test)], [min(y_test), max(y_test)], linestyle='--', color='red', linewidth=2)  # Line of perfect predictions\n",
    "plt.xlabel('Actual Concrete Strength (csMPa)')\n",
    "plt.ylabel('Predicted Concrete Strength (csMPa)')\n",
    "plt.title('Actual vs. Predicted Concrete Strength')\n",
    "plt.show()"
   ]
  },
  {
   "cell_type": "code",
   "execution_count": null,
   "id": "cb93980e",
   "metadata": {},
   "outputs": [],
   "source": []
  }
 ],
 "metadata": {
  "kernelspec": {
   "display_name": "Python 3 (ipykernel)",
   "language": "python",
   "name": "python3"
  },
  "language_info": {
   "codemirror_mode": {
    "name": "ipython",
    "version": 3
   },
   "file_extension": ".py",
   "mimetype": "text/x-python",
   "name": "python",
   "nbconvert_exporter": "python",
   "pygments_lexer": "ipython3",
   "version": "3.11.5"
  }
 },
 "nbformat": 4,
 "nbformat_minor": 5
}
