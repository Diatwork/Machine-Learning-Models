{
 "cells": [
  {
   "cell_type": "markdown",
   "id": "dd9f2351",
   "metadata": {},
   "source": [
    "# Deploy KNN with all these distance matrics and select the best for further processing 'euclidean', 'manhattan', 'chebyshev', 'minkowski'"
   ]
  },
  {
   "cell_type": "code",
   "execution_count": 1,
   "id": "8bc1c88f",
   "metadata": {},
   "outputs": [],
   "source": [
    "import pandas as pd\n",
    "from sklearn.model_selection import train_test_split\n",
    "from sklearn.preprocessing import StandardScaler\n",
    "from sklearn.neighbors import KNeighborsClassifier\n",
    "from sklearn.metrics import accuracy_score, classification_report, confusion_matrix\n",
    "import matplotlib.pyplot as plt"
   ]
  },
  {
   "cell_type": "code",
   "execution_count": 46,
   "id": "96e075ef",
   "metadata": {},
   "outputs": [
    {
     "data": {
      "text/html": [
       "<div>\n",
       "<style scoped>\n",
       "    .dataframe tbody tr th:only-of-type {\n",
       "        vertical-align: middle;\n",
       "    }\n",
       "\n",
       "    .dataframe tbody tr th {\n",
       "        vertical-align: top;\n",
       "    }\n",
       "\n",
       "    .dataframe thead th {\n",
       "        text-align: right;\n",
       "    }\n",
       "</style>\n",
       "<table border=\"1\" class=\"dataframe\">\n",
       "  <thead>\n",
       "    <tr style=\"text-align: right;\">\n",
       "      <th></th>\n",
       "      <th>age</th>\n",
       "      <th>sex</th>\n",
       "      <th>cp</th>\n",
       "      <th>trtbps</th>\n",
       "      <th>chol</th>\n",
       "      <th>fbs</th>\n",
       "      <th>restecg</th>\n",
       "      <th>thalachh</th>\n",
       "      <th>exng</th>\n",
       "      <th>oldpeak</th>\n",
       "      <th>slp</th>\n",
       "      <th>caa</th>\n",
       "      <th>thall</th>\n",
       "      <th>output</th>\n",
       "    </tr>\n",
       "  </thead>\n",
       "  <tbody>\n",
       "    <tr>\n",
       "      <th>0</th>\n",
       "      <td>63</td>\n",
       "      <td>1</td>\n",
       "      <td>3</td>\n",
       "      <td>145</td>\n",
       "      <td>233</td>\n",
       "      <td>1</td>\n",
       "      <td>0</td>\n",
       "      <td>150</td>\n",
       "      <td>0</td>\n",
       "      <td>2.3</td>\n",
       "      <td>0</td>\n",
       "      <td>0</td>\n",
       "      <td>1</td>\n",
       "      <td>1</td>\n",
       "    </tr>\n",
       "    <tr>\n",
       "      <th>1</th>\n",
       "      <td>37</td>\n",
       "      <td>1</td>\n",
       "      <td>2</td>\n",
       "      <td>130</td>\n",
       "      <td>250</td>\n",
       "      <td>0</td>\n",
       "      <td>1</td>\n",
       "      <td>187</td>\n",
       "      <td>0</td>\n",
       "      <td>3.5</td>\n",
       "      <td>0</td>\n",
       "      <td>0</td>\n",
       "      <td>2</td>\n",
       "      <td>1</td>\n",
       "    </tr>\n",
       "    <tr>\n",
       "      <th>2</th>\n",
       "      <td>41</td>\n",
       "      <td>0</td>\n",
       "      <td>1</td>\n",
       "      <td>130</td>\n",
       "      <td>204</td>\n",
       "      <td>0</td>\n",
       "      <td>0</td>\n",
       "      <td>172</td>\n",
       "      <td>0</td>\n",
       "      <td>1.4</td>\n",
       "      <td>2</td>\n",
       "      <td>0</td>\n",
       "      <td>2</td>\n",
       "      <td>1</td>\n",
       "    </tr>\n",
       "    <tr>\n",
       "      <th>3</th>\n",
       "      <td>56</td>\n",
       "      <td>1</td>\n",
       "      <td>1</td>\n",
       "      <td>120</td>\n",
       "      <td>236</td>\n",
       "      <td>0</td>\n",
       "      <td>1</td>\n",
       "      <td>178</td>\n",
       "      <td>0</td>\n",
       "      <td>0.8</td>\n",
       "      <td>2</td>\n",
       "      <td>0</td>\n",
       "      <td>2</td>\n",
       "      <td>1</td>\n",
       "    </tr>\n",
       "    <tr>\n",
       "      <th>4</th>\n",
       "      <td>57</td>\n",
       "      <td>0</td>\n",
       "      <td>0</td>\n",
       "      <td>120</td>\n",
       "      <td>354</td>\n",
       "      <td>0</td>\n",
       "      <td>1</td>\n",
       "      <td>163</td>\n",
       "      <td>1</td>\n",
       "      <td>0.6</td>\n",
       "      <td>2</td>\n",
       "      <td>0</td>\n",
       "      <td>2</td>\n",
       "      <td>1</td>\n",
       "    </tr>\n",
       "    <tr>\n",
       "      <th>5</th>\n",
       "      <td>57</td>\n",
       "      <td>1</td>\n",
       "      <td>0</td>\n",
       "      <td>140</td>\n",
       "      <td>192</td>\n",
       "      <td>0</td>\n",
       "      <td>1</td>\n",
       "      <td>148</td>\n",
       "      <td>0</td>\n",
       "      <td>0.4</td>\n",
       "      <td>1</td>\n",
       "      <td>0</td>\n",
       "      <td>1</td>\n",
       "      <td>1</td>\n",
       "    </tr>\n",
       "    <tr>\n",
       "      <th>6</th>\n",
       "      <td>56</td>\n",
       "      <td>0</td>\n",
       "      <td>1</td>\n",
       "      <td>140</td>\n",
       "      <td>294</td>\n",
       "      <td>0</td>\n",
       "      <td>0</td>\n",
       "      <td>153</td>\n",
       "      <td>0</td>\n",
       "      <td>1.3</td>\n",
       "      <td>1</td>\n",
       "      <td>0</td>\n",
       "      <td>2</td>\n",
       "      <td>1</td>\n",
       "    </tr>\n",
       "    <tr>\n",
       "      <th>7</th>\n",
       "      <td>44</td>\n",
       "      <td>1</td>\n",
       "      <td>1</td>\n",
       "      <td>120</td>\n",
       "      <td>263</td>\n",
       "      <td>0</td>\n",
       "      <td>1</td>\n",
       "      <td>173</td>\n",
       "      <td>0</td>\n",
       "      <td>0.0</td>\n",
       "      <td>2</td>\n",
       "      <td>0</td>\n",
       "      <td>3</td>\n",
       "      <td>1</td>\n",
       "    </tr>\n",
       "    <tr>\n",
       "      <th>8</th>\n",
       "      <td>52</td>\n",
       "      <td>1</td>\n",
       "      <td>2</td>\n",
       "      <td>172</td>\n",
       "      <td>199</td>\n",
       "      <td>1</td>\n",
       "      <td>1</td>\n",
       "      <td>162</td>\n",
       "      <td>0</td>\n",
       "      <td>0.5</td>\n",
       "      <td>2</td>\n",
       "      <td>0</td>\n",
       "      <td>3</td>\n",
       "      <td>1</td>\n",
       "    </tr>\n",
       "    <tr>\n",
       "      <th>9</th>\n",
       "      <td>57</td>\n",
       "      <td>1</td>\n",
       "      <td>2</td>\n",
       "      <td>150</td>\n",
       "      <td>168</td>\n",
       "      <td>0</td>\n",
       "      <td>1</td>\n",
       "      <td>174</td>\n",
       "      <td>0</td>\n",
       "      <td>1.6</td>\n",
       "      <td>2</td>\n",
       "      <td>0</td>\n",
       "      <td>2</td>\n",
       "      <td>1</td>\n",
       "    </tr>\n",
       "  </tbody>\n",
       "</table>\n",
       "</div>"
      ],
      "text/plain": [
       "   age  sex  cp  trtbps  chol  fbs  restecg  thalachh  exng  oldpeak  slp  \\\n",
       "0   63    1   3     145   233    1        0       150     0      2.3    0   \n",
       "1   37    1   2     130   250    0        1       187     0      3.5    0   \n",
       "2   41    0   1     130   204    0        0       172     0      1.4    2   \n",
       "3   56    1   1     120   236    0        1       178     0      0.8    2   \n",
       "4   57    0   0     120   354    0        1       163     1      0.6    2   \n",
       "5   57    1   0     140   192    0        1       148     0      0.4    1   \n",
       "6   56    0   1     140   294    0        0       153     0      1.3    1   \n",
       "7   44    1   1     120   263    0        1       173     0      0.0    2   \n",
       "8   52    1   2     172   199    1        1       162     0      0.5    2   \n",
       "9   57    1   2     150   168    0        1       174     0      1.6    2   \n",
       "\n",
       "   caa  thall  output  \n",
       "0    0      1       1  \n",
       "1    0      2       1  \n",
       "2    0      2       1  \n",
       "3    0      2       1  \n",
       "4    0      2       1  \n",
       "5    0      1       1  \n",
       "6    0      2       1  \n",
       "7    0      3       1  \n",
       "8    0      3       1  \n",
       "9    0      2       1  "
      ]
     },
     "execution_count": 46,
     "metadata": {},
     "output_type": "execute_result"
    }
   ],
   "source": [
    "df= pd.read_csv('heart.csv')\n",
    "df.head(10)"
   ]
  },
  {
   "cell_type": "code",
   "execution_count": 47,
   "id": "357eb8a2",
   "metadata": {},
   "outputs": [],
   "source": [
    "X = df.drop('output', axis=1)  # Features\n",
    "y = df['output']  # Target variable"
   ]
  },
  {
   "cell_type": "code",
   "execution_count": 48,
   "id": "3454b134",
   "metadata": {},
   "outputs": [],
   "source": [
    "X_train, X_test, y_train, y_test = train_test_split(X, y, test_size=0.2, random_state=42)\n"
   ]
  },
  {
   "cell_type": "code",
   "execution_count": 49,
   "id": "9ece7ecf",
   "metadata": {},
   "outputs": [],
   "source": [
    "scaler = StandardScaler()\n",
    "X_train = scaler.fit_transform(X_train)\n",
    "X_test = scaler.transform(X_test)"
   ]
  },
  {
   "cell_type": "code",
   "execution_count": 50,
   "id": "088af3e0",
   "metadata": {},
   "outputs": [
    {
     "name": "stdout",
     "output_type": "stream",
     "text": [
      "Accuracy: 0.8360655737704918\n",
      "Confusion Matrix:\n",
      "[[24  5]\n",
      " [ 5 27]]\n",
      "Classification Report:\n",
      "              precision    recall  f1-score   support\n",
      "\n",
      "           0       0.83      0.83      0.83        29\n",
      "           1       0.84      0.84      0.84        32\n",
      "\n",
      "    accuracy                           0.84        61\n",
      "   macro avg       0.84      0.84      0.84        61\n",
      "weighted avg       0.84      0.84      0.84        61\n",
      "\n"
     ]
    }
   ],
   "source": [
    "knn_classifier = KNeighborsClassifier(n_neighbors=5, metric='manhattan')\n",
    "\n",
    "# Train the classifier\n",
    "knn_classifier.fit(X_train, y_train)\n",
    "\n",
    "# Make predictions on the test set\n",
    "y_pred = knn_classifier.predict(X_test)\n",
    "accuracy = accuracy_score(y_test, y_pred)\n",
    "conf_matrix = confusion_matrix(y_test, y_pred)\n",
    "classification_report_str = classification_report(y_test, y_pred)\n",
    "\n",
    "# Display the results\n",
    "print(f'Accuracy: {accuracy}')\n",
    "print(f'Confusion Matrix:\\n{conf_matrix}')\n",
    "print(f'Classification Report:\\n{classification_report_str}')"
   ]
  },
  {
   "cell_type": "code",
   "execution_count": 51,
   "id": "33626aa5",
   "metadata": {},
   "outputs": [
    {
     "name": "stdout",
     "output_type": "stream",
     "text": [
      "Accuracy: 0.9016393442622951\n",
      "Confusion Matrix:\n",
      "[[27  2]\n",
      " [ 4 28]]\n",
      "Classification Report:\n",
      "              precision    recall  f1-score   support\n",
      "\n",
      "           0       0.87      0.93      0.90        29\n",
      "           1       0.93      0.88      0.90        32\n",
      "\n",
      "    accuracy                           0.90        61\n",
      "   macro avg       0.90      0.90      0.90        61\n",
      "weighted avg       0.90      0.90      0.90        61\n",
      "\n"
     ]
    }
   ],
   "source": [
    "knn_classifier = KNeighborsClassifier(n_neighbors=5, metric='euclidean')\n",
    "\n",
    "# Train the classifier\n",
    "knn_classifier.fit(X_train, y_train)\n",
    "\n",
    "# Make predictions on the test set\n",
    "y_pred = knn_classifier.predict(X_test)\n",
    "accuracy = accuracy_score(y_test, y_pred)\n",
    "conf_matrix = confusion_matrix(y_test, y_pred)\n",
    "classification_report_str = classification_report(y_test, y_pred)\n",
    "\n",
    "# Display the results\n",
    "print(f'Accuracy: {accuracy}')\n",
    "print(f'Confusion Matrix:\\n{conf_matrix}')\n",
    "print(f'Classification Report:\\n{classification_report_str}')"
   ]
  },
  {
   "cell_type": "code",
   "execution_count": 52,
   "id": "a130eafe",
   "metadata": {},
   "outputs": [
    {
     "name": "stdout",
     "output_type": "stream",
     "text": [
      "Accuracy: 0.9016393442622951\n",
      "Confusion Matrix:\n",
      "[[27  2]\n",
      " [ 4 28]]\n",
      "Classification Report:\n",
      "              precision    recall  f1-score   support\n",
      "\n",
      "           0       0.87      0.93      0.90        29\n",
      "           1       0.93      0.88      0.90        32\n",
      "\n",
      "    accuracy                           0.90        61\n",
      "   macro avg       0.90      0.90      0.90        61\n",
      "weighted avg       0.90      0.90      0.90        61\n",
      "\n"
     ]
    }
   ],
   "source": [
    "knn_classifier = KNeighborsClassifier(n_neighbors=5, metric='minkowski')\n",
    "\n",
    "# Train the classifier\n",
    "knn_classifier.fit(X_train, y_train)\n",
    "\n",
    "# Make predictions on the test set\n",
    "y_pred = knn_classifier.predict(X_test)\n",
    "accuracy = accuracy_score(y_test, y_pred)\n",
    "conf_matrix = confusion_matrix(y_test, y_pred)\n",
    "classification_report_str = classification_report(y_test, y_pred)\n",
    "\n",
    "# Display the results\n",
    "print(f'Accuracy: {accuracy}')\n",
    "print(f'Confusion Matrix:\\n{conf_matrix}')\n",
    "print(f'Classification Report:\\n{classification_report_str}')"
   ]
  },
  {
   "cell_type": "code",
   "execution_count": 53,
   "id": "a110fbdc",
   "metadata": {},
   "outputs": [
    {
     "name": "stdout",
     "output_type": "stream",
     "text": [
      "Accuracy: 0.819672131147541\n",
      "Confusion Matrix:\n",
      "[[26  3]\n",
      " [ 8 24]]\n",
      "Classification Report:\n",
      "              precision    recall  f1-score   support\n",
      "\n",
      "           0       0.76      0.90      0.83        29\n",
      "           1       0.89      0.75      0.81        32\n",
      "\n",
      "    accuracy                           0.82        61\n",
      "   macro avg       0.83      0.82      0.82        61\n",
      "weighted avg       0.83      0.82      0.82        61\n",
      "\n"
     ]
    }
   ],
   "source": [
    "knn_classifier = KNeighborsClassifier(n_neighbors=5, metric='chebyshev')\n",
    "\n",
    "# Train the classifier\n",
    "knn_classifier.fit(X_train, y_train)\n",
    "\n",
    "# Make predictions on the test set\n",
    "y_pred = knn_classifier.predict(X_test)\n",
    "accuracy = accuracy_score(y_test, y_pred)\n",
    "conf_matrix = confusion_matrix(y_test, y_pred)\n",
    "classification_report_str = classification_report(y_test, y_pred)\n",
    "\n",
    "# Display the results\n",
    "print(f'Accuracy: {accuracy}')\n",
    "print(f'Confusion Matrix:\\n{conf_matrix}')\n",
    "print(f'Classification Report:\\n{classification_report_str}')"
   ]
  },
  {
   "cell_type": "markdown",
   "id": "eb5e9944",
   "metadata": {},
   "source": [
    "Euclidean and Minkowski show good accuracies"
   ]
  },
  {
   "cell_type": "markdown",
   "id": "211812ae",
   "metadata": {},
   "source": [
    "# Now select the best metric accroding above results and use it with different K values '3, 5, 7, 9'"
   ]
  },
  {
   "cell_type": "code",
   "execution_count": 58,
   "id": "226716e1",
   "metadata": {},
   "outputs": [
    {
     "name": "stdout",
     "output_type": "stream",
     "text": [
      "Accuracy: 0.8524590163934426\n",
      "Confusion Matrix:\n",
      "[[27  2]\n",
      " [ 7 25]]\n",
      "Classification Report:\n",
      "              precision    recall  f1-score   support\n",
      "\n",
      "           0       0.79      0.93      0.86        29\n",
      "           1       0.93      0.78      0.85        32\n",
      "\n",
      "    accuracy                           0.85        61\n",
      "   macro avg       0.86      0.86      0.85        61\n",
      "weighted avg       0.86      0.85      0.85        61\n",
      "\n",
      "Accuracy: 0.9016393442622951\n",
      "Confusion Matrix:\n",
      "[[27  2]\n",
      " [ 4 28]]\n",
      "Classification Report:\n",
      "              precision    recall  f1-score   support\n",
      "\n",
      "           0       0.87      0.93      0.90        29\n",
      "           1       0.93      0.88      0.90        32\n",
      "\n",
      "    accuracy                           0.90        61\n",
      "   macro avg       0.90      0.90      0.90        61\n",
      "weighted avg       0.90      0.90      0.90        61\n",
      "\n",
      "Accuracy: 0.9180327868852459\n",
      "Confusion Matrix:\n",
      "[[27  2]\n",
      " [ 3 29]]\n",
      "Classification Report:\n",
      "              precision    recall  f1-score   support\n",
      "\n",
      "           0       0.90      0.93      0.92        29\n",
      "           1       0.94      0.91      0.92        32\n",
      "\n",
      "    accuracy                           0.92        61\n",
      "   macro avg       0.92      0.92      0.92        61\n",
      "weighted avg       0.92      0.92      0.92        61\n",
      "\n",
      "Accuracy: 0.9016393442622951\n",
      "Confusion Matrix:\n",
      "[[27  2]\n",
      " [ 4 28]]\n",
      "Classification Report:\n",
      "              precision    recall  f1-score   support\n",
      "\n",
      "           0       0.87      0.93      0.90        29\n",
      "           1       0.93      0.88      0.90        32\n",
      "\n",
      "    accuracy                           0.90        61\n",
      "   macro avg       0.90      0.90      0.90        61\n",
      "weighted avg       0.90      0.90      0.90        61\n",
      "\n"
     ]
    }
   ],
   "source": [
    "knn_num=[3,5,7,9]\n",
    "for k in knn_num:\n",
    "    knn_classifier = KNeighborsClassifier(n_neighbors= k, metric='euclidean')\n",
    "\n",
    "# Train the classifier\n",
    "    knn_classifier.fit(X_train, y_train)\n",
    "\n",
    "# Make predictions on the test set\n",
    "    y_pred = knn_classifier.predict(X_test)\n",
    "    accuracy = accuracy_score(y_test, y_pred)\n",
    "    conf_matrix = confusion_matrix(y_test, y_pred)\n",
    "    classification_report_str = classification_report(y_test, y_pred)\n",
    "\n",
    "# Display the results\n",
    "    print(f'Accuracy: {accuracy}')\n",
    "    print(f'Confusion Matrix:\\n{conf_matrix}')\n",
    "    print(f'Classification Report:\\n{classification_report_str}')\n",
    "    "
   ]
  },
  {
   "cell_type": "code",
   "execution_count": 57,
   "id": "98aee3ef",
   "metadata": {},
   "outputs": [
    {
     "name": "stdout",
     "output_type": "stream",
     "text": [
      "Accuracy: 0.8524590163934426\n",
      "Confusion Matrix:\n",
      "[[27  2]\n",
      " [ 7 25]]\n",
      "Classification Report:\n",
      "              precision    recall  f1-score   support\n",
      "\n",
      "           0       0.79      0.93      0.86        29\n",
      "           1       0.93      0.78      0.85        32\n",
      "\n",
      "    accuracy                           0.85        61\n",
      "   macro avg       0.86      0.86      0.85        61\n",
      "weighted avg       0.86      0.85      0.85        61\n",
      "\n",
      "Accuracy: 0.9016393442622951\n",
      "Confusion Matrix:\n",
      "[[27  2]\n",
      " [ 4 28]]\n",
      "Classification Report:\n",
      "              precision    recall  f1-score   support\n",
      "\n",
      "           0       0.87      0.93      0.90        29\n",
      "           1       0.93      0.88      0.90        32\n",
      "\n",
      "    accuracy                           0.90        61\n",
      "   macro avg       0.90      0.90      0.90        61\n",
      "weighted avg       0.90      0.90      0.90        61\n",
      "\n",
      "Accuracy: 0.9180327868852459\n",
      "Confusion Matrix:\n",
      "[[27  2]\n",
      " [ 3 29]]\n",
      "Classification Report:\n",
      "              precision    recall  f1-score   support\n",
      "\n",
      "           0       0.90      0.93      0.92        29\n",
      "           1       0.94      0.91      0.92        32\n",
      "\n",
      "    accuracy                           0.92        61\n",
      "   macro avg       0.92      0.92      0.92        61\n",
      "weighted avg       0.92      0.92      0.92        61\n",
      "\n",
      "Accuracy: 0.9016393442622951\n",
      "Confusion Matrix:\n",
      "[[27  2]\n",
      " [ 4 28]]\n",
      "Classification Report:\n",
      "              precision    recall  f1-score   support\n",
      "\n",
      "           0       0.87      0.93      0.90        29\n",
      "           1       0.93      0.88      0.90        32\n",
      "\n",
      "    accuracy                           0.90        61\n",
      "   macro avg       0.90      0.90      0.90        61\n",
      "weighted avg       0.90      0.90      0.90        61\n",
      "\n"
     ]
    }
   ],
   "source": [
    "knn_num=[3,5,7,9]\n",
    "for k in knn_num:\n",
    "    knn_classifier = KNeighborsClassifier(n_neighbors= k, metric='minkowski')\n",
    "\n",
    "# Train the classifier\n",
    "    knn_classifier.fit(X_train, y_train)\n",
    "\n",
    "# Make predictions on the test set\n",
    "    y_pred = knn_classifier.predict(X_test)\n",
    "    accuracy = accuracy_score(y_test, y_pred)\n",
    "    conf_matrix = confusion_matrix(y_test, y_pred)\n",
    "    classification_report_str = classification_report(y_test, y_pred)\n",
    "\n",
    "# Display the results\n",
    "    print(f'Accuracy: {accuracy}')\n",
    "    print(f'Confusion Matrix:\\n{conf_matrix}')\n",
    "    print(f'Classification Report:\\n{classification_report_str}')"
   ]
  },
  {
   "cell_type": "markdown",
   "id": "cba7d37b",
   "metadata": {},
   "source": [
    "# Plot a line graph show impact of K value on accuracy"
   ]
  },
  {
   "cell_type": "code",
   "execution_count": 91,
   "id": "c8681b29",
   "metadata": {},
   "outputs": [
    {
     "data": {
      "text/plain": [
       "<Axes: >"
      ]
     },
     "execution_count": 91,
     "metadata": {},
     "output_type": "execute_result"
    },
    {
     "data": {
      "image/png": "[encoded data removed]",
      "text/plain": [
       "<Figure size 640x480 with 1 Axes>"
      ]
     },
     "metadata": {},
     "output_type": "display_data"
    }
   ],
   "source": [
    "#Graph of Accuracy and K values in Manhattan/Minkowski are similar\n",
    "def knn_predict(X_train, y_train, X_test, k):\n",
    "    knn_classifier= KNeighborsClassifier(n_neighbors=k, metric='manhattan')\n",
    "    knn_classifier.fit(X_train, y_train)\n",
    "    y_predict= knn_classifier.predict(X_test)\n",
    "    return y_predict \n",
    "k_values = [1,2,3,4,5,6,7,8,9,10]\n",
    "accuracy_values = []\n",
    "\n",
    "for k in k_values:\n",
    "    y_pred = knn_predict(X_train, y_train, X_test, k)\n",
    "    accuracy = accuracy_score(y_test, y_pred)\n",
    "    #print(k, y_pred, accuracy)\n",
    "    accuracy_values.append(accuracy)\n",
    "    \n",
    "# Plotting accuracy vs. k\n",
    "sns.lineplot(x= k_values, y= accuracy_values)"
   ]
  },
  {
   "cell_type": "code",
   "execution_count": 99,
   "id": "3684fa7a",
   "metadata": {},
   "outputs": [
    {
     "data": {
      "text/plain": [
       "<Axes: >"
      ]
     },
     "execution_count": 99,
     "metadata": {},
     "output_type": "execute_result"
    },
    {
     "data": {
      "image/png": "[encoded data removed]",
      "text/plain": [
       "<Figure size 640x480 with 1 Axes>"
      ]
     },
     "metadata": {},
     "output_type": "display_data"
    }
   ],
   "source": [
    "#Graph in Euclidean metric \n",
    "def knn_predict2(X_train, y_train, X_test, k):\n",
    "    knn_classifier= KNeighborsClassifier(n_neighbors=k, metric='euclidean')\n",
    "    knn_classifier.fit(X_train, y_train)\n",
    "    y_predict= knn_classifier.predict(X_test)\n",
    "    return y_predict \n",
    "k_values = [1,2,3,4,5,6,7,8,9,10]\n",
    "accuracy_values = []\n",
    "\n",
    "for k in k_values:\n",
    "    y_pred = knn_predict2(X_train, y_train, X_test, k)\n",
    "    accuracy = accuracy_score(y_test, y_pred)\n",
    "    #print(k, y_pred, accuracy)\n",
    "    accuracy_values.append(accuracy)\n",
    "    \n",
    "# Plotting accuracy vs. k\n",
    "sns.lineplot(x= k_values, y= accuracy_values)\n"
   ]
  },
  {
   "cell_type": "markdown",
   "id": "23fa6088",
   "metadata": {},
   "source": [
    "# Now select the best K value and best metric accroding above results and use it with different searching algorithm and select the best approach in terms of training and prediciton time 'algorithms = ['auto', 'ball_tree', 'kd_tree', 'brute']'"
   ]
  },
  {
   "cell_type": "code",
   "execution_count": 105,
   "id": "f3284e09",
   "metadata": {},
   "outputs": [
    {
     "name": "stdout",
     "output_type": "stream",
     "text": [
      "0.9180327868852459\n",
      "Training Time: 0.0034890174865722656, Prediction Time: 0.0059070587158203125\n",
      "0.8688524590163934\n",
      "Training Time: 0.0009472370147705078, Prediction Time: 0.0023033618927001953\n"
     ]
    }
   ],
   "source": [
    "#BEST K VALUE IS 7 OR 8\n",
    "#BEST METRIC IS EUCLIDEAN\n",
    "\n",
    "#Graph in Euclidean metric \n",
    "import time\n",
    "def knn_predict2(X_train, y_train, X_test, k):\n",
    "    knn_classifier= KNeighborsClassifier(n_neighbors=k, metric='euclidean', algorithm= 'auto')\n",
    "\n",
    "    start_train= time.time()\n",
    "    knn_classifier.fit(X_train, y_train)\n",
    "    end_train= time.time()\n",
    "\n",
    "    start_pred= time.time()\n",
    "    y_predict= knn_classifier.predict(X_test)\n",
    "    end_pred= time.time()\n",
    "\n",
    "    training_time = end_train - start_train\n",
    "    prediction_time = end_pred - start_pred\n",
    "\n",
    "    return y_predict, training_time, prediction_time \n",
    "k_values = [7,8]\n",
    "\n",
    "for k in k_values:\n",
    "    y_pred, train_time, pred_time= knn_predict2(X_train, y_train, X_test, k)\n",
    "    accuracy = accuracy_score(y_test, y_pred)\n",
    "    #print(k, y_pred, accuracy)\n",
    "    print(accuracy)\n",
    "    print(f'Training Time: {train_time}, Prediction Time: {pred_time}')\n"
   ]
  },
  {
   "cell_type": "code",
   "execution_count": 106,
   "id": "c0874db7",
   "metadata": {},
   "outputs": [
    {
     "name": "stdout",
     "output_type": "stream",
     "text": [
      "0.9180327868852459\n",
      "Training Time: 0.011838912963867188, Prediction Time: 0.006911039352416992\n",
      "0.8688524590163934\n",
      "Training Time: 0.0015518665313720703, Prediction Time: 0.004122257232666016\n"
     ]
    }
   ],
   "source": [
    "#Graph in Euclidean metric \n",
    "import time\n",
    "def knn_predict2(X_train, y_train, X_test, k):\n",
    "    knn_classifier= KNeighborsClassifier(n_neighbors=k, metric='euclidean', algorithm= 'ball_tree')\n",
    "\n",
    "    start_train= time.time()\n",
    "    knn_classifier.fit(X_train, y_train)\n",
    "    end_train= time.time()\n",
    "\n",
    "    start_pred= time.time()\n",
    "    y_predict= knn_classifier.predict(X_test)\n",
    "    end_pred= time.time()\n",
    "\n",
    "    training_time = end_train - start_train\n",
    "    prediction_time = end_pred - start_pred\n",
    "\n",
    "    return y_predict, training_time, prediction_time \n",
    "k_values = [7,8]\n",
    "\n",
    "for k in k_values:\n",
    "    y_pred, train_time, pred_time= knn_predict2(X_train, y_train, X_test, k)\n",
    "    accuracy = accuracy_score(y_test, y_pred)\n",
    "    #print(k, y_pred, accuracy)\n",
    "    print(accuracy)\n",
    "    print(f'Training Time: {train_time}, Prediction Time: {pred_time}')"
   ]
  },
  {
   "cell_type": "code",
   "execution_count": 107,
   "id": "f6b93a73",
   "metadata": {},
   "outputs": [
    {
     "name": "stdout",
     "output_type": "stream",
     "text": [
      "0.9180327868852459\n",
      "Training Time: 0.0011050701141357422, Prediction Time: 0.004389047622680664\n",
      "0.8688524590163934\n",
      "Training Time: 0.0005688667297363281, Prediction Time: 0.0028581619262695312\n"
     ]
    }
   ],
   "source": [
    "#Graph in Euclidean metric \n",
    "import time\n",
    "def knn_predict2(X_train, y_train, X_test, k):\n",
    "    knn_classifier= KNeighborsClassifier(n_neighbors=k, metric='euclidean', algorithm= 'kd_tree')\n",
    "\n",
    "    start_train= time.time()\n",
    "    knn_classifier.fit(X_train, y_train)\n",
    "    end_train= time.time()\n",
    "\n",
    "    start_pred= time.time()\n",
    "    y_predict= knn_classifier.predict(X_test)\n",
    "    end_pred= time.time()\n",
    "\n",
    "    training_time = end_train - start_train\n",
    "    prediction_time = end_pred - start_pred\n",
    "\n",
    "    return y_predict, training_time, prediction_time \n",
    "k_values = [7,8]\n",
    "\n",
    "for k in k_values:\n",
    "    y_pred, train_time, pred_time= knn_predict2(X_train, y_train, X_test, k)\n",
    "    accuracy = accuracy_score(y_test, y_pred)\n",
    "    #print(k, y_pred, accuracy)\n",
    "    print(accuracy)\n",
    "    print(f'Training Time: {train_time}, Prediction Time: {pred_time}')"
   ]
  },
  {
   "cell_type": "code",
   "execution_count": 108,
   "id": "09be1808",
   "metadata": {},
   "outputs": [
    {
     "name": "stdout",
     "output_type": "stream",
     "text": [
      "0.9180327868852459\n",
      "Training Time: 0.005371809005737305, Prediction Time: 0.20705223083496094\n",
      "0.8688524590163934\n",
      "Training Time: 0.0003190040588378906, Prediction Time: 0.013617992401123047\n"
     ]
    }
   ],
   "source": [
    "#Graph in Euclidean metric \n",
    "import time\n",
    "def knn_predict2(X_train, y_train, X_test, k):\n",
    "    knn_classifier= KNeighborsClassifier(n_neighbors=k, metric='euclidean', algorithm= 'brute')\n",
    "\n",
    "    start_train= time.time()\n",
    "    knn_classifier.fit(X_train, y_train)\n",
    "    end_train= time.time()\n",
    "\n",
    "    start_pred= time.time()\n",
    "    y_predict= knn_classifier.predict(X_test)\n",
    "    end_pred= time.time()\n",
    "\n",
    "    training_time = end_train - start_train\n",
    "    prediction_time = end_pred - start_pred\n",
    "\n",
    "    return y_predict, training_time, prediction_time \n",
    "k_values = [7,8]\n",
    "\n",
    "for k in k_values:\n",
    "    y_pred, train_time, pred_time= knn_predict2(X_train, y_train, X_test, k)\n",
    "    accuracy = accuracy_score(y_test, y_pred)\n",
    "    #print(k, y_pred, accuracy)\n",
    "    print(accuracy)\n",
    "    print(f'Training Time: {train_time}, Prediction Time: {pred_time}')"
   ]
  },
  {
   "cell_type": "markdown",
   "id": "b2e43899",
   "metadata": {},
   "source": [
    "# Deploy Linear Regression For Concrete_Data and deploy it without any paramters"
   ]
  },
  {
   "cell_type": "code",
   "execution_count": 109,
   "id": "dabcebff",
   "metadata": {},
   "outputs": [],
   "source": [
    "import pandas as pd\n",
    "import matplotlib.pyplot as plt\n",
    "from sklearn.model_selection import train_test_split\n",
    "from sklearn.linear_model import LinearRegression\n",
    "from sklearn.metrics import mean_squared_error, r2_score\n",
    "\n",
    "# Load the dataset\n",
    "file_path = 'Concrete_Data_Yeh.csv'\n",
    "df = pd.read_csv(file_path)\n",
    "\n",
    "# Separate features and target variable\n",
    "X = df.drop('csMPa', axis=1)\n",
    "y = df['csMPa']\n",
    "\n",
    "# Split the dataset into training and testing sets\n",
    "X_train, X_test, y_train, y_test = train_test_split(X, y, test_size=0.2, random_state=42)"
   ]
  },
  {
   "cell_type": "code",
   "execution_count": 114,
   "id": "3378be88",
   "metadata": {},
   "outputs": [
    {
     "name": "stdout",
     "output_type": "stream",
     "text": [
      "Mean Squared Error: 95.97094009110677\n",
      "R-squared Score: 0.6275531792314851\n"
     ]
    }
   ],
   "source": [
    "# Initialize the Linear Regression model\n",
    "linear_reg_model = LinearRegression()\n",
    "\n",
    "# Train the model\n",
    "linear_reg_model.fit(X_train, y_train)\n",
    "\n",
    "# Make predictions on the test set\n",
    "y_pred = linear_reg_model.predict(X_test)\n",
    "\n",
    "# Evaluate the performance of the model\n",
    "mse = mean_squared_error(y_test, y_pred)\n",
    "r2 = r2_score(y_test, y_pred)\n",
    "\n",
    "# Display the results\n",
    "print(f'Mean Squared Error: {mse}')\n",
    "print(f'R-squared Score: {r2}')\n",
    "\n"
   ]
  },
  {
   "cell_type": "markdown",
   "id": "25d43b62",
   "metadata": {},
   "source": [
    "# Show Cofficinet of LR"
   ]
  },
  {
   "cell_type": "code",
   "execution_count": 117,
   "id": "d6b85f9d",
   "metadata": {},
   "outputs": [
    {
     "data": {
      "text/plain": [
       "array([ 0.11899393,  0.1085356 ,  0.08215181, -0.13527626,  0.31056994,\n",
       "        0.01786715,  0.02409978,  0.11643864])"
      ]
     },
     "execution_count": 117,
     "metadata": {},
     "output_type": "execute_result"
    }
   ],
   "source": [
    "linear_reg_model.coef_"
   ]
  },
  {
   "cell_type": "markdown",
   "id": "9f0958e2",
   "metadata": {},
   "source": [
    "# Show Intercept of LR"
   ]
  },
  {
   "cell_type": "code",
   "execution_count": 118,
   "id": "871e5d1e",
   "metadata": {},
   "outputs": [
    {
     "data": {
      "text/plain": [
       "-28.82355499969296"
      ]
     },
     "execution_count": 118,
     "metadata": {},
     "output_type": "execute_result"
    }
   ],
   "source": [
    "linear_reg_model.intercept_"
   ]
  },
  {
   "cell_type": "markdown",
   "id": "15a637c2",
   "metadata": {},
   "source": [
    "# Deploy it with fit_intercept=False, normalize=True, n_jobs=1"
   ]
  },
  {
   "cell_type": "code",
   "execution_count": 127,
   "id": "bba6181b",
   "metadata": {},
   "outputs": [
    {
     "name": "stdout",
     "output_type": "stream",
     "text": [
      "Mean Squared Error: 1383.1068008405086\n",
      "R-squared Score: -4.3676011745569445\n"
     ]
    }
   ],
   "source": [
    "# Standardize the data Since Normalize parameter is not working\n",
    "scaler = StandardScaler()\n",
    "X_train = scaler.fit_transform(X_train)\n",
    "X_test = scaler.transform(X_test)\n",
    "linear_reg_model = LinearRegression(fit_intercept=False, n_jobs=1)\n",
    "\n",
    "# Train the model\n",
    "linear_reg_model.fit(X_train, y_train)\n",
    "\n",
    "# Make predictions on the test set\n",
    "y_pred = linear_reg_model.predict(X_test)\n",
    "\n",
    "# Evaluate the performance of the model\n",
    "mse = mean_squared_error(y_test, y_pred)\n",
    "r2 = r2_score(y_test, y_pred)\n",
    "\n",
    "# Display the results\n",
    "print(f'Mean Squared Error: {mse}')\n",
    "print(f'R-squared Score: {r2}')"
   ]
  },
  {
   "cell_type": "markdown",
   "id": "cccbf38a",
   "metadata": {},
   "source": [
    "# Deploy it with fit_intercept=False, normalize=False, n_jobs=1"
   ]
  },
  {
   "cell_type": "code",
   "execution_count": 123,
   "id": "ba8e99d5",
   "metadata": {},
   "outputs": [
    {
     "name": "stdout",
     "output_type": "stream",
     "text": [
      "Mean Squared Error: 95.84963748935647\n",
      "R-squared Score: 0.628023933902951\n"
     ]
    }
   ],
   "source": [
    "linear_reg_model = LinearRegression(fit_intercept=False, n_jobs=1)\n",
    "\n",
    "# Train the model\n",
    "linear_reg_model.fit(X_train, y_train)\n",
    "\n",
    "# Make predictions on the test set\n",
    "y_pred = linear_reg_model.predict(X_test)\n",
    "\n",
    "# Evaluate the performance of the model\n",
    "mse = mean_squared_error(y_test, y_pred)\n",
    "r2 = r2_score(y_test, y_pred)\n",
    "\n",
    "# Display the results\n",
    "print(f'Mean Squared Error: {mse}')\n",
    "print(f'R-squared Score: {r2}')"
   ]
  },
  {
   "cell_type": "code",
   "execution_count": null,
   "id": "793a9405",
   "metadata": {},
   "outputs": [],
   "source": []
  }
 ],
 "metadata": {
  "kernelspec": {
   "display_name": "Python 3 (ipykernel)",
   "language": "python",
   "name": "python3"
  },
  "language_info": {
   "codemirror_mode": {
    "name": "ipython",
    "version": 3
   },
   "file_extension": ".py",
   "mimetype": "text/x-python",
   "name": "python",
   "nbconvert_exporter": "python",
   "pygments_lexer": "ipython3",
   "version": "3.11.5"
  }
 },
 "nbformat": 4,
 "nbformat_minor": 5
}
